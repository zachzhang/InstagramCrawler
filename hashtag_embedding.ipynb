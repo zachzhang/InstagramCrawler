{
 "cells": [
  {
   "cell_type": "code",
   "execution_count": 1,
   "metadata": {
    "collapsed": true
   },
   "outputs": [],
   "source": [
    "import pandas as pd\n",
    "from sklearn.feature_extraction.text import CountVectorizer\n",
    "from sklearn.decomposition import PCA\n",
    "import numpy as np\n",
    "\n",
    "\n",
    "def co_occurance_mat(tags):\n",
    "    \n",
    "    vect = CountVectorizer(min_df=1000)\n",
    "    \n",
    "    X = vect.fit_transform(tags)\n",
    "    \n",
    "    C = (X.T * X).toarray()\n",
    "    \n",
    "    row_sums = C.sum(axis=1).astype(np.float32)\n",
    "    C_dense = C / row_sums[:, np.newaxis]\n",
    "    \n",
    "    return C_dense , vect\n",
    "\n",
    "def hashtag_index(text,vect):\n",
    "    \n",
    "    X = []\n",
    "    vocab = vect.vocabulary_\n",
    "    \n",
    "    for i in range(len(text)):\n",
    "        index = []\n",
    "        doc = text[i]\n",
    "        for word in doc.split(','):\n",
    "            if word in vocab:\n",
    "                index.append(vocab[word])\n",
    "        X.append(index)\n",
    "    \n",
    "    \n",
    "    return X\n",
    "\n",
    "\n",
    "\n"
   ]
  },
  {
   "cell_type": "code",
   "execution_count": 6,
   "metadata": {
    "collapsed": false
   },
   "outputs": [
    {
     "name": "stdout",
     "output_type": "stream",
     "text": [
      "0.881726508239\n"
     ]
    }
   ],
   "source": [
    "X = pd.read_csv('media_fixed.csv',sep=';',encoding = \"ISO-8859-1\")\n",
    "X= X.fillna('')\n",
    "\n",
    "tags = X['tagset']\n",
    "\n",
    "C , vect = co_occurance_mat(tags)\n",
    "\n",
    "pca = PCA(n_components=110)\n",
    "\n",
    "H = pca.fit_transform(C )\n",
    "\n",
    "print pca.explained_variance_ratio_.sum()\n",
    "\n",
    "bow = vect.transform(tags).toarray()\n",
    "mask = bow.sum(axis=1)  > 0\n",
    "X_popular = X[mask]\n",
    "\n",
    "tag_idx = hashtag_index(list(X_popular['tagset']),vect)\n",
    "\n"
   ]
  },
  {
   "cell_type": "code",
   "execution_count": 7,
   "metadata": {
    "collapsed": false
   },
   "outputs": [],
   "source": [
    "#linear regression against number of likes\n",
    "from sklearn import preprocessing\n",
    "features = np.array([ H[idx].mean(axis=0) for idx in tag_idx])\n",
    "nan_mask = (np.isnan(features).sum(axis=1) == 0 )\n",
    "\n",
    "#features = preprocessing.scale(features[nan_mask])\n",
    "features = features[nan_mask]\n",
    "\n",
    "\n"
   ]
  },
  {
   "cell_type": "code",
   "execution_count": 8,
   "metadata": {
    "collapsed": false
   },
   "outputs": [
    {
     "name": "stdout",
     "output_type": "stream",
     "text": [
      "0.1990976877 0.199882534544\n"
     ]
    }
   ],
   "source": [
    "from sklearn.linear_model import LinearRegression\n",
    "from sklearn.cross_validation import train_test_split\n",
    "\n",
    "#nan_mask = (np.isnan(features).sum(axis=1) == 0 )\n",
    "\n",
    "y = X_popular['likes'][nan_mask]\n",
    "\n",
    "#y = (y- y.mean()) / y.var()\n",
    "\n",
    "X_train, X_test, y_train, y_test = train_test_split( features, y, test_size=0.33, random_state=42)\n",
    "\n",
    "model = LinearRegression()\n",
    "\n",
    "model.fit(X_train,y_train)\n",
    "\n",
    "print model.score(X_train,y_train),model.score(X_test,y_test)\n"
   ]
  },
  {
   "cell_type": "code",
   "execution_count": null,
   "metadata": {
    "collapsed": false
   },
   "outputs": [],
   "source": [
    "#0.0095882985509 0.00981850995256\n",
    "#0.243473119605 0.244486016706\n",
    "'''\n",
    "\n",
    "\n",
    "0.131162534745 0.128454633652\n",
    "In [ ]:\n",
    "\n",
    "0.1990976877 0.199882534544\n",
    "\n",
    "'''\n"
   ]
  },
  {
   "cell_type": "code",
   "execution_count": 5,
   "metadata": {
    "collapsed": false
   },
   "outputs": [
    {
     "name": "stdout",
     "output_type": "stream",
     "text": [
      "0.243473119605 0.244486016706\n"
     ]
    }
   ],
   "source": [
    "X_bow = vect.transform(X_popular['tagset'][nan_mask])\n",
    "\n",
    "X_train, X_test, y_train, y_test = train_test_split( X_bow, y, test_size=0.33, random_state=42)\n",
    "\n",
    "model = LinearRegression()\n",
    "\n",
    "model.fit(X_train,y_train)\n",
    "\n",
    "print model.score(X_train,y_train),model.score(X_test,y_test)"
   ]
  },
  {
   "cell_type": "code",
   "execution_count": null,
   "metadata": {
    "collapsed": false
   },
   "outputs": [],
   "source": [
    "X_bow = vect.transform(X_popular['tagset'][nan_mask])\n",
    "\n",
    "pca = PCA(n_components=50)\n",
    "\n",
    "X_bow_pca = pca.fit_transform(X_bow.toarray() )\n",
    "\n",
    "print pca.explained_variance_ratio_.sum()\n",
    "\n",
    "X_train, X_test, y_train, y_test = train_test_split( X_bow_pca, y, test_size=0.33, random_state=42)\n",
    "\n",
    "model = LinearRegression()\n",
    "\n",
    "model.fit(X_train,y_train)\n",
    "\n",
    "print model.score(X_train,y_train),model.score(X_test,y_test)"
   ]
  },
  {
   "cell_type": "code",
   "execution_count": 14,
   "metadata": {
    "collapsed": false
   },
   "outputs": [
    {
     "data": {
      "text/plain": [
       "(array([  4.37544000e+05,   9.75260000e+04,   5.47270000e+04,\n",
       "          3.99410000e+04,   4.75010000e+04,   2.80340000e+04,\n",
       "          2.69480000e+04,   2.48580000e+04,   3.39630000e+04,\n",
       "          1.98560000e+04,   1.67470000e+04,   1.30160000e+04,\n",
       "          1.08830000e+04,   2.26200000e+03,   4.90000000e+01,\n",
       "          3.30000000e+01,   2.80000000e+01,   2.00000000e+00,\n",
       "          0.00000000e+00,   2.00000000e+00]),\n",
       " array([  0.  ,   2.25,   4.5 ,   6.75,   9.  ,  11.25,  13.5 ,  15.75,\n",
       "         18.  ,  20.25,  22.5 ,  24.75,  27.  ,  29.25,  31.5 ,  33.75,\n",
       "         36.  ,  38.25,  40.5 ,  42.75,  45.  ]),\n",
       " <a list of 20 Patch objects>)"
      ]
     },
     "execution_count": 14,
     "metadata": {},
     "output_type": "execute_result"
    },
    {
     "data": {
      "image/png": "[encoded data removed]",
      "text/plain": [
       "<matplotlib.figure.Figure at 0x10beae350>"
      ]
     },
     "metadata": {},
     "output_type": "display_data"
    }
   ],
   "source": [
    "%matplotlib inline\n",
    "import matplotlib.pyplot as plt\n",
    "\n",
    "plt.hist(np.array( [len(idx) for idx in tag_idx] ), bins =20)"
   ]
  },
  {
   "cell_type": "code",
   "execution_count": null,
   "metadata": {
    "collapsed": true
   },
   "outputs": [],
   "source": []
  }
 ],
 "metadata": {
  "kernelspec": {
   "display_name": "Python 2",
   "language": "python",
   "name": "python2"
  },
  "language_info": {
   "codemirror_mode": {
    "name": "ipython",
    "version": 2
   },
   "file_extension": ".py",
   "mimetype": "text/x-python",
   "name": "python",
   "nbconvert_exporter": "python",
   "pygments_lexer": "ipython2",
   "version": "2.7.11"
  }
 },
 "nbformat": 4,
 "nbformat_minor": 1
}
