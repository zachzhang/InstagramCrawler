{
 "cells": [
  {
   "cell_type": "code",
   "execution_count": 1,
   "metadata": {
    "collapsed": false
   },
   "outputs": [],
   "source": [
    "import pandas as pd\n",
    "\n",
    "def numTag(string):\n",
    "    \n",
    "    if string=='':\n",
    "        return 0\n",
    "    \n",
    "    return len(string.split(','))\n",
    "\n",
    "               \n",
    "X = pd.read_csv('media_fixed.csv',sep=';',encoding = \"ISO-8859-1\")\n",
    "X= X.fillna('')\n",
    "\n",
    "num_tags = X['tagset'].apply(lambda x: numTag(x) )\n"
   ]
  },
  {
   "cell_type": "code",
   "execution_count": 2,
   "metadata": {
    "collapsed": false
   },
   "outputs": [],
   "source": [
    "single_tag = X[(num_tags == 1)]"
   ]
  },
  {
   "cell_type": "code",
   "execution_count": 3,
   "metadata": {
    "collapsed": false
   },
   "outputs": [
    {
     "data": {
      "text/html": [
       "<div>\n",
       "<table border=\"1\" class=\"dataframe\">\n",
       "  <thead>\n",
       "    <tr style=\"text-align: right;\">\n",
       "      <th></th>\n",
       "      <th>id_media</th>\n",
       "      <th>id_author</th>\n",
       "      <th>TS_upload</th>\n",
       "      <th>tagset</th>\n",
       "      <th>likes</th>\n",
       "      <th>comments</th>\n",
       "      <th>Unnamed: 6</th>\n",
       "    </tr>\n",
       "  </thead>\n",
       "  <tbody>\n",
       "    <tr>\n",
       "      <th>5</th>\n",
       "      <td>5</td>\n",
       "      <td>1</td>\n",
       "      <td>1389024482</td>\n",
       "      <td>latergram</td>\n",
       "      <td>577</td>\n",
       "      <td>23</td>\n",
       "      <td></td>\n",
       "    </tr>\n",
       "    <tr>\n",
       "      <th>14</th>\n",
       "      <td>14</td>\n",
       "      <td>1</td>\n",
       "      <td>1387899910</td>\n",
       "      <td>instamarinda</td>\n",
       "      <td>508</td>\n",
       "      <td>3</td>\n",
       "      <td></td>\n",
       "    </tr>\n",
       "    <tr>\n",
       "      <th>15</th>\n",
       "      <td>15</td>\n",
       "      <td>1</td>\n",
       "      <td>1387709355</td>\n",
       "      <td>whpstoryinmotion</td>\n",
       "      <td>423</td>\n",
       "      <td>34</td>\n",
       "      <td></td>\n",
       "    </tr>\n",
       "    <tr>\n",
       "      <th>17</th>\n",
       "      <td>17</td>\n",
       "      <td>1</td>\n",
       "      <td>1387467726</td>\n",
       "      <td>fromwhattheysee</td>\n",
       "      <td>557</td>\n",
       "      <td>35</td>\n",
       "      <td></td>\n",
       "    </tr>\n",
       "    <tr>\n",
       "      <th>18</th>\n",
       "      <td>18</td>\n",
       "      <td>1</td>\n",
       "      <td>1387373779</td>\n",
       "      <td>instamarinda</td>\n",
       "      <td>535</td>\n",
       "      <td>20</td>\n",
       "      <td></td>\n",
       "    </tr>\n",
       "    <tr>\n",
       "      <th>23</th>\n",
       "      <td>23</td>\n",
       "      <td>1</td>\n",
       "      <td>1386688626</td>\n",
       "      <td>instamarinda</td>\n",
       "      <td>673</td>\n",
       "      <td>64</td>\n",
       "      <td></td>\n",
       "    </tr>\n",
       "    <tr>\n",
       "      <th>25</th>\n",
       "      <td>25</td>\n",
       "      <td>1</td>\n",
       "      <td>1386562795</td>\n",
       "      <td>latergram</td>\n",
       "      <td>473</td>\n",
       "      <td>30</td>\n",
       "      <td></td>\n",
       "    </tr>\n",
       "    <tr>\n",
       "      <th>27</th>\n",
       "      <td>27</td>\n",
       "      <td>1</td>\n",
       "      <td>1386443317</td>\n",
       "      <td>latergram</td>\n",
       "      <td>583</td>\n",
       "      <td>22</td>\n",
       "      <td></td>\n",
       "    </tr>\n",
       "    <tr>\n",
       "      <th>35</th>\n",
       "      <td>35</td>\n",
       "      <td>1</td>\n",
       "      <td>1385222494</td>\n",
       "      <td>whpselfportrait</td>\n",
       "      <td>632</td>\n",
       "      <td>46</td>\n",
       "      <td></td>\n",
       "    </tr>\n",
       "    <tr>\n",
       "      <th>37</th>\n",
       "      <td>37</td>\n",
       "      <td>1</td>\n",
       "      <td>1384964117</td>\n",
       "      <td>solo_tree</td>\n",
       "      <td>740</td>\n",
       "      <td>50</td>\n",
       "      <td></td>\n",
       "    </tr>\n",
       "  </tbody>\n",
       "</table>\n",
       "</div>"
      ],
      "text/plain": [
       "    id_media  id_author   TS_upload            tagset  likes comments  \\\n",
       "5          5          1  1389024482         latergram    577       23   \n",
       "14        14          1  1387899910      instamarinda    508        3   \n",
       "15        15          1  1387709355  whpstoryinmotion    423       34   \n",
       "17        17          1  1387467726   fromwhattheysee    557       35   \n",
       "18        18          1  1387373779      instamarinda    535       20   \n",
       "23        23          1  1386688626      instamarinda    673       64   \n",
       "25        25          1  1386562795         latergram    473       30   \n",
       "27        27          1  1386443317         latergram    583       22   \n",
       "35        35          1  1385222494   whpselfportrait    632       46   \n",
       "37        37          1  1384964117         solo_tree    740       50   \n",
       "\n",
       "   Unnamed: 6  \n",
       "5              \n",
       "14             \n",
       "15             \n",
       "17             \n",
       "18             \n",
       "23             \n",
       "25             \n",
       "27             \n",
       "35             \n",
       "37             "
      ]
     },
     "execution_count": 3,
     "metadata": {},
     "output_type": "execute_result"
    }
   ],
   "source": [
    "single_tag[0:10]"
   ]
  },
  {
   "cell_type": "code",
   "execution_count": 11,
   "metadata": {
    "collapsed": false
   },
   "outputs": [
    {
     "data": {
      "text/plain": [
       "74524"
      ]
     },
     "execution_count": 11,
     "metadata": {},
     "output_type": "execute_result"
    }
   ],
   "source": [
    "len(single_tag.unique())"
   ]
  },
  {
   "cell_type": "code",
   "execution_count": 3,
   "metadata": {
    "collapsed": false
   },
   "outputs": [
    {
     "name": "stdout",
     "output_type": "stream",
     "text": [
      "Index([u'tagset', u'counts'], dtype='object')\n"
     ]
    }
   ],
   "source": [
    "#num_each = [  (single_tag ==tag).sum()  for tag  in single_tag.unique()]\n",
    "\n",
    "num_each  = single_tag['tagset'].value_counts()\n",
    "num_each2  = pd.DataFrame( columns=['tagset','counts'])\n",
    "num_each2['tagset'] = num_each.index\n",
    "num_each2['counts'] = num_each.values\n",
    "\n",
    "print num_each2.keys()\n"
   ]
  },
  {
   "cell_type": "code",
   "execution_count": 4,
   "metadata": {
    "collapsed": false
   },
   "outputs": [
    {
     "name": "stdout",
     "output_type": "stream",
     "text": [
      "(945955, 8)\n"
     ]
    }
   ],
   "source": [
    "\n",
    "with_counts = pd.merge(single_tag,num_each2,on='tagset',how='left')\n",
    "\n",
    "print with_counts.shape\n",
    "\n",
    "with_counts = with_counts[with_counts['counts'] > 100]\n",
    "\n",
    "single_tag = with_counts"
   ]
  },
  {
   "cell_type": "code",
   "execution_count": 5,
   "metadata": {
    "collapsed": false
   },
   "outputs": [],
   "source": [
    "mu = single_tag.groupby(['tagset']).mean()\n",
    "var = single_tag.groupby(['tagset']).var()\n",
    "\n",
    "#single_tag.keys()"
   ]
  },
  {
   "cell_type": "code",
   "execution_count": 6,
   "metadata": {
    "collapsed": false
   },
   "outputs": [],
   "source": [
    "#%matplotlib inline\n",
    "#import matplotlib.pyplot as plt\n",
    "#plt.hist(mu['likes'],bins=50)"
   ]
  },
  {
   "cell_type": "code",
   "execution_count": 7,
   "metadata": {
    "collapsed": false
   },
   "outputs": [],
   "source": [
    "%matplotlib inline\n",
    "import matplotlib.pyplot as plt\n",
    "\n",
    "#plt.hist(single_tag['tagset'=='0']\n",
    "\n",
    "#plt.hist( single_tag[single_tag['tagset']=='0']['likes'],bins=30)"
   ]
  },
  {
   "cell_type": "code",
   "execution_count": 8,
   "metadata": {
    "collapsed": false
   },
   "outputs": [],
   "source": [
    "import numpy as np \n",
    "\n",
    "class EGreedy():\n",
    "    \n",
    "    def __init__(self,rounds,epsilon):\n",
    "        \n",
    "        self.rounds = rounds\n",
    "        self.e = epsilon\n",
    "        \n",
    "        \n",
    "    def maxArm(self,totals,count):\n",
    "        \n",
    "        '''\n",
    "        best_val = 0\n",
    "        best_arm = bandits[0]\n",
    "        \n",
    "        for bandit in bandits:\n",
    "            \n",
    "            if count[bandit] ==0:\n",
    "                continue\n",
    "            \n",
    "            mu = totals[bandit] / float(count[bandit])\n",
    "            \n",
    "            if mu > best_val:\n",
    "                \n",
    "                best_val = mu\n",
    "                best_arm = bandit\n",
    "        '''\n",
    "                \n",
    "        mu = totals/ count\n",
    "        \n",
    "        index = np.argmax(mu)\n",
    "        \n",
    "        return index\n",
    "        \n",
    "        \n",
    "    def run(self,data):\n",
    "        \n",
    "        r = 0\n",
    "        \n",
    "        bandits = data.keys().values\n",
    "        \n",
    "        #index_map = dict([(i,bandit)  for i,bandit in enumerate(bandits) ])\n",
    "        \n",
    "        totals = np.zeros(len(bandits))\n",
    "        count = np.zeros(len(bandits))\n",
    "\n",
    "        n_each = dict([(bandit,len(data[bandit]))  for bandit in bandits ])\n",
    "        \n",
    "        for i in range(self.rounds):\n",
    "        \n",
    "            if (i > 0) and (np.random.uniform() > self.e):\n",
    "                \n",
    "                index = self.maxArm(totals,count)\n",
    "                bandit_t = bandits[index]\n",
    "                \n",
    "            else:\n",
    "            \n",
    "                index = np.random.randint(0,len(bandits))\n",
    "                bandit_t = bandits[index]\n",
    "            \n",
    "            #if count[index] == n_each[bandit_t]:\n",
    "            #    totals[index]=0\n",
    "            #    continue\n",
    "                        \n",
    "            #sample = data[bandit_t][ int(count[index] )]\n",
    "            \n",
    "            sample_index = np.random.randint(0,n_each[bandit_t])\n",
    "\n",
    "            sample = data[bandit_t][sample_index]\n",
    "  \n",
    "                \n",
    "            r += sample\n",
    "            \n",
    "            totals[index] += sample\n",
    "            count[index] +=1\n",
    "            \n",
    "        return \"Average Reward: \", r / self.rounds"
   ]
  },
  {
   "cell_type": "code",
   "execution_count": 9,
   "metadata": {
    "collapsed": false
   },
   "outputs": [],
   "source": [
    "\n",
    "from sklearn.gaussian_process import GaussianProcessRegressor\n",
    "import numpy as np\n",
    "\n",
    "class BayesOptimization():\n",
    "    \n",
    "    def __init__(self,n_iters,kappa,init_size=10):\n",
    "\n",
    "        self.n_iters = n_iters\n",
    "        self.kappa = kappa\n",
    "        self.init_size = init_size\n",
    "        self.gp = GaussianProcessRegressor()\n",
    "        self.samples = 100\n",
    "        \n",
    "        \n",
    "    def maximize(X,y,data):\n",
    "        \n",
    "        #the indices that have already been evaluated\n",
    "        index = np.zeros(X.shape[0])\n",
    "        \n",
    "        #inital sample\n",
    "        sample = np.random.choice(X.shape[0],self.init_size,replace=False)\n",
    "        \n",
    "        index[sample] = 1\n",
    "        \n",
    "        X_init = X[index]\n",
    "        y_init = y[index]\n",
    "        \n",
    "        self.gp.fit(X_init, y_init)\n",
    "        \n",
    "        for i in range(self.n_iters):\n",
    "            \n",
    "            mu,var = self.gp.predict(X[~index], return_std=True)\n",
    "            \n",
    "            U = mu + self.kappa * var\n",
    "            \n",
    "            x_next = np.argmax(U)\n",
    "            \n",
    "            index[x_next] = 1\n",
    "            \n",
    "            self.gp.fit(X[index], y[index])\n",
    "            \n",
    "        "
   ]
  },
  {
   "cell_type": "code",
   "execution_count": 42,
   "metadata": {
    "collapsed": false
   },
   "outputs": [],
   "source": [
    "test = single_tag.groupby(['tagset'])['likes'].apply(list)"
   ]
  },
  {
   "cell_type": "code",
   "execution_count": 12,
   "metadata": {
    "collapsed": false
   },
   "outputs": [],
   "source": [
    "bandits = test.keys().values"
   ]
  },
  {
   "cell_type": "code",
   "execution_count": 44,
   "metadata": {
    "collapsed": false
   },
   "outputs": [
    {
     "data": {
      "text/plain": [
       "('Average Reward: ', 306)"
      ]
     },
     "execution_count": 44,
     "metadata": {},
     "output_type": "execute_result"
    }
   ],
   "source": [
    "mab = EGreedy(80000,1)\n",
    "mab.run(test)"
   ]
  },
  {
   "cell_type": "code",
   "execution_count": 49,
   "metadata": {
    "collapsed": true
   },
   "outputs": [],
   "source": [
    "count = dict([(bandit,0)  for bandit in bandits ])"
   ]
  },
  {
   "cell_type": "code",
   "execution_count": 46,
   "metadata": {
    "collapsed": false
   },
   "outputs": [
    {
     "data": {
      "text/plain": [
       "12636.857142857143"
      ]
     },
     "execution_count": 46,
     "metadata": {},
     "output_type": "execute_result"
    }
   ],
   "source": [
    "mu['likes'].max()"
   ]
  },
  {
   "cell_type": "code",
   "execution_count": 14,
   "metadata": {
    "collapsed": false
   },
   "outputs": [
    {
     "data": {
      "text/plain": [
       "(945955, 7)"
      ]
     },
     "execution_count": 14,
     "metadata": {},
     "output_type": "execute_result"
    }
   ],
   "source": [
    "single_tag.shape"
   ]
  },
  {
   "cell_type": "code",
   "execution_count": 33,
   "metadata": {
    "collapsed": false
   },
   "outputs": [
    {
     "data": {
      "text/plain": [
       "2035431.9557147713"
      ]
     },
     "execution_count": 33,
     "metadata": {},
     "output_type": "execute_result"
    }
   ],
   "source": [
    "single_tag['likes'].var()"
   ]
  },
  {
   "cell_type": "code",
   "execution_count": 34,
   "metadata": {
    "collapsed": false
   },
   "outputs": [
    {
     "data": {
      "text/plain": [
       "1426.6853191927082"
      ]
     },
     "execution_count": 34,
     "metadata": {},
     "output_type": "execute_result"
    }
   ],
   "source": [
    "#300\n",
    "#std = \n",
    "\n",
    "np.sqrt(2035431)"
   ]
  },
  {
   "cell_type": "code",
   "execution_count": 41,
   "metadata": {
    "collapsed": false
   },
   "outputs": [
    {
     "ename": "NameError",
     "evalue": "name 'mu' is not defined",
     "output_type": "error",
     "traceback": [
      "\u001b[0;31m---------------------------------------------------------------------------\u001b[0m",
      "\u001b[0;31mNameError\u001b[0m                                 Traceback (most recent call last)",
      "\u001b[0;32m<ipython-input-41-5736e83111c2>\u001b[0m in \u001b[0;36m<module>\u001b[0;34m()\u001b[0m\n\u001b[0;32m----> 1\u001b[0;31m \u001b[0mmu\u001b[0m\u001b[0;34m\u001b[0m\u001b[0m\n\u001b[0m",
      "\u001b[0;31mNameError\u001b[0m: name 'mu' is not defined"
     ]
    }
   ],
   "source": [
    "mu"
   ]
  },
  {
   "cell_type": "code",
   "execution_count": null,
   "metadata": {
    "collapsed": true
   },
   "outputs": [],
   "source": []
  }
 ],
 "metadata": {
  "kernelspec": {
   "display_name": "Python 2",
   "language": "python",
   "name": "python2"
  },
  "language_info": {
   "codemirror_mode": {
    "name": "ipython",
    "version": 2
   },
   "file_extension": ".py",
   "mimetype": "text/x-python",
   "name": "python",
   "nbconvert_exporter": "python",
   "pygments_lexer": "ipython2",
   "version": "2.7.11"
  }
 },
 "nbformat": 4,
 "nbformat_minor": 1
}
